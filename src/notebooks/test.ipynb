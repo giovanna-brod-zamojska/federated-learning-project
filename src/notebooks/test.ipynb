{
  "cells": [
    {
      "cell_type": "markdown",
      "metadata": {
        "colab_type": "text",
        "id": "view-in-github"
      },
      "source": [
        "<a href=\"https://colab.research.google.com/github/giovanna-brod-zamojska/federated-learning-project/blob/main/src/notebooks/test.ipynb\" target=\"_parent\"><img src=\"https://colab.research.google.com/assets/colab-badge.svg\" alt=\"Open In Colab\"/></a>"
      ]
    },
    {
      "cell_type": "code",
      "execution_count": 7,
      "metadata": {},
      "outputs": [
        {
          "name": "stdout",
          "output_type": "stream",
          "text": [
            "Current directory: /Users/giovanna/Desktop/federated-learning-project/src/notebooks\n",
            "Potential repo path: /Users/giovanna/Desktop/federated-learning-project\n",
            "sys.path after adding repo_path: ['/Library/Frameworks/Python.framework/Versions/3.10/lib/python310.zip', '/Library/Frameworks/Python.framework/Versions/3.10/lib/python3.10', '/Library/Frameworks/Python.framework/Versions/3.10/lib/python3.10/lib-dynload', '', '/Users/giovanna/Desktop/federated-learning-project/venv/lib/python3.10/site-packages', '/content/federated-learning-project/src/', '/Users/giovanna/Desktop/federated-learning-project/src', '/Users/giovanna/Desktop/federated-learning-project']\n",
            "Hello\n"
          ]
        }
      ],
      "source": [
        "# TEST relative imports\n",
        "\n",
        "import sys\n",
        "import os\n",
        "\n",
        "# Automatically determine the repo root (two levels up from this notebook)\n",
        "current_dir = os.getcwd()\n",
        "# Calculate the path two levels up\n",
        "potential_repo_path = os.path.abspath(os.path.join(current_dir, '..', '..')) # Corrected to navigate two levels up from the current directory\n",
        "\n",
        "# Verify the calculated path\n",
        "print(f\"Current directory: {current_dir}\")\n",
        "print(f\"Potential repo path: {potential_repo_path}\")\n",
        "\n",
        "# Assuming potential_repo_path is the correct root, update repo_path\n",
        "repo_path = potential_repo_path\n",
        "\n",
        "if repo_path not in sys.path:\n",
        "    sys.path.append(repo_path)\n",
        "\n",
        "# Print sys.path to confirm the new path is added\n",
        "print(f\"sys.path after adding repo_path: {sys.path}\")\n",
        "\n",
        "\n",
        "# Now import like a proper Python module\n",
        "# Make sure the 'utils' directory and 'test_colab_function_import.py' exist at the calculated repo_path\n",
        "try:\n",
        "    from utils.test_colab_function_import import say_hello\n",
        "    say_hello()\n",
        "except ModuleNotFoundError as e:\n",
        "    print(f\"Import failed: {e}\")\n",
        "    print(\"Please ensure the 'utils' directory and 'test_colab_function_import.py' are correctly placed relative to the calculated repo_path.\")\n",
        "    print(f\"Calculated repo_path: {repo_path}\")"
      ]
    }
  ],
  "metadata": {
    "colab": {
      "authorship_tag": "ABX9TyNWSjCAEusQ+Hsopq9xmwAZ",
      "include_colab_link": true,
      "provenance": [],
      "toc_visible": true
    },
    "kernelspec": {
      "display_name": "venv",
      "language": "python",
      "name": "python3"
    },
    "language_info": {
      "codemirror_mode": {
        "name": "ipython",
        "version": 3
      },
      "file_extension": ".py",
      "mimetype": "text/x-python",
      "name": "python",
      "nbconvert_exporter": "python",
      "pygments_lexer": "ipython3",
      "version": "3.10.10"
    }
  },
  "nbformat": 4,
  "nbformat_minor": 0
}
